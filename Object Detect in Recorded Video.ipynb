import cv2
import numpy as np
from openvino.inference_engine import IECore

# Path to the OpenVINO model files and labels
model_xml = 'pedestrian-detection-adas-0002.xml'
model_bin = 'pedestrian-detection-adas-0002.bin'
labels_file = 'labels.txt'

# Load the Inference Engine
ie = IECore()

# Load the model
net = ie.read_network(model=model_xml, weights=model_bin)

# Get the input and output names
input_blob = next(iter(net.input_info))
output_blob = next(iter(net.outputs))
cap=cv2.VideoCapture("traffic.mp4")


if not cap.isOpened():
    cap= cv2.VideoCapture(0)
if not cap.isOpened():
    raise IOError("Cannot open video")
    font_scale=3
    font = cv2.FONT_HERSHEY_PLAIN
while True:
    ret, frame = cap.read()
    config_file='ssd_mobilenet_v3_large_coco_2020_01_14.pbtxt'
    frozen_model='frozen_inference_graph.pb'
    model=cv2.dnn_DetectionModel(frozen_model,config_file)
    model.setInputSize(320,320)
    model.setInputScale(1.0/127.5)
    model.setInputMean((127.5,127.5,127.5))
    model.setInputSwapRB(True)
    classIndex, confidence, bbox= model.detect(frame)
    print(classIndex)
if (len(classIndex)!=0):
    for classInd, conf, boxes in zip(classIndex. flatten(), confidece.flatten(), bbox):
        if (ClassInd<=80):
            cv2.rectangle(frame, boxes, (255, 0, 0), 2)
            cv2.putText(frame,classLabels [ClassInd-1], (boxes[0]+18, boxes[1]+48), font, fontScale-font_scale, color=(0, 255, 0), thickness=3)
        cv2.imshow("Object Detection Tutorial", frame)
        
        if cv2.waitKey(2) & 0xFF== ord('q'):
            break
cap.release()
cv2.destroyAllWindows()
